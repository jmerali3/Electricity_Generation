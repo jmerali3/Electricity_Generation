{
 "cells": [
  {
   "cell_type": "markdown",
   "id": "4f767e7d",
   "metadata": {},
   "source": [
    "# USA Electricity Generating Exploratory Analysis"
   ]
  },
  {
   "cell_type": "code",
   "execution_count": 1,
   "id": "b6e6a934",
   "metadata": {},
   "outputs": [],
   "source": [
    "import pandas as pd\n",
    "import numpy as np\n",
    "\n",
    "df_2018 = pd.read_csv(\"raw_data/y2018.csv\")\n",
    "# Questions to answer\n",
    "## Explore the data\n",
    "\n",
    "## In 2018\n",
    "# What is the breakdown of capacity by technology\n",
    "# What is the breakdown of usable electricty by technology\n",
    "# What is the breakdown of capacity by renewables, fossil fuel, nuclear\n",
    "# What is the breakdown of capacity by technology by state\n",
    "# Geolocation of plants by different technologies - nuclear, coal, NG, hydro\n",
    "## Larger questions\n",
    "# How does energy makeup change throughout the years\n"
   ]
  },
  {
   "cell_type": "code",
   "execution_count": 2,
   "id": "4107c74e",
   "metadata": {},
   "outputs": [
    {
     "name": "stdout",
     "output_type": "stream",
     "text": [
      "   Nameplate     Technology   Latitude  Longitude State  Plant_ID\n",
      "0       53.9  Hydroelectric  33.458665 -87.356823    AL         2\n",
      "1      153.1    Natural Gas  31.006900 -88.010300    AL         3\n",
      "2      153.1    Natural Gas  31.006900 -88.010300    AL         3\n",
      "3      403.7           Coal  31.006900 -88.010300    AL         3\n",
      "4      788.8           Coal  31.006900 -88.010300    AL         3\n",
      "5      170.1    Natural Gas  31.006900 -88.010300    AL         3\n",
      "6      170.1    Natural Gas  31.006900 -88.010300    AL         3\n",
      "7      195.2    Natural Gas  31.006900 -88.010300    AL         3\n",
      "8      170.1    Natural Gas  31.006900 -88.010300    AL         3\n",
      "9      170.1    Natural Gas  31.006900 -88.010300    AL         3 \n",
      "\n",
      "Electricity generating technologies in this dataset: ['Hydroelectric' 'Natural Gas' 'Coal' 'Other' 'Nuclear' 'Wind' 'Solar']\n",
      "Number of power plants in this dataset: 9062\n"
     ]
    }
   ],
   "source": [
    "print(df_2018.head(10), \"\\n\")\n",
    "\n",
    "print(f\"Electricity generating technologies in this dataset: {df_2018.Technology.unique()}\")\n",
    "\n",
    "print(f\"Number of power plants in this dataset: {df_2018.Plant_ID.nunique()}\")"
   ]
  },
  {
   "attachments": {},
   "cell_type": "markdown",
   "id": "e975d103",
   "metadata": {},
   "source": [
    "Columns include the nameplate capacity, the generating technology, the location, and the Plant_ID.\n",
    "\n",
    "######  Nameplate Capacity\n",
    "The nameplate capacity is the \"rated\" capacity of the power plant, but it's important to note that this is just a theoretical maximum. For example, a solar plant could be rated for 10 MW in sunny, perfect conditions, but in reality, it might only generate a fraction of that because the sun doesn't always shine. There is a name for this: [Capacity Factor](https://en.wikipedia.org/wiki/Capacity_factor). \n",
    "\n",
    "Below are capacity factors taken from Wikipedia for 2018. Natural gas is assumed to mostly be combined cycle (Cogen) and other is assumed by be biomass, geothermal, etc. Solar is assumed to be photovoltaic (PV)\n",
    "\n",
    "###### Repeat Columns\n",
    "Notice rows 2-9. Looks like a repeat right (especially 5 and 6)? There are numerous rows that look like duplicates but are actually different modules of one power plant. For example, it could be two separate nuclear reactors at one site or two cogeneration trains at a natural gas plant. For the purposes of this analysis, it will be best to combine these with a sum these by technology to get the sense of the electricity generating capacity at a facility"
   ]
  },
  {
   "cell_type": "code",
   "execution_count": 3,
   "id": "33c458e9",
   "metadata": {},
   "outputs": [],
   "source": [
    "capacity_factor_dict = {\"Hydroelectric\": .428, \n",
    "                        \"Wind\": .374, \n",
    "                        \"Solar\": .261, \n",
    "                        \"Coal\": .54, \n",
    "                        \"Natural Gas\":.5,\n",
    "                        \"Nuclear\": .887, \n",
    "                        \"Other\": .5}"
   ]
  },
  {
   "cell_type": "code",
   "execution_count": 11,
   "id": "b3cc6ec9",
   "metadata": {},
   "outputs": [
    {
     "name": "stdout",
     "output_type": "stream",
     "text": [
      "Index(['Plant_ID', 'Technology', 'Latitude', 'Longitude', 'State', 'Nameplate',\n",
      "       'Classification', 'Electricity Output'],\n",
      "      dtype='object')\n",
      "   Plant_ID     Technology   Latitude  Longitude State  Nameplate Classification  Electricity Output\n",
      "0         2  Hydroelectric  33.458665 -87.356823    AL       53.9      Renewable             23.0692\n",
      "1         3           Coal  31.006900 -88.010300    AL     1192.5    Fossil Fuel            643.9500\n",
      "2         3    Natural Gas  31.006900 -88.010300    AL     1377.0    Fossil Fuel            688.5000\n",
      "3         4  Hydroelectric  32.583889 -86.283056    AL      225.0      Renewable             96.3000\n",
      "4         7    Natural Gas  34.012800 -85.970800    AL      138.0    Fossil Fuel             69.0000\n"
     ]
    }
   ],
   "source": [
    "# Creating a function in case we would like to perform this data cleansing\n",
    "def cleanse_df(df, capacity_factors=capacity_factor_dict):\n",
    "    df = df.groupby([\"Plant_ID\", \"Technology\", \"Latitude\", \"Longitude\", \"State\"], as_index=False).sum()\n",
    "    electricity_classification_dict = {\"Hydroelectric\": \"Renewable\", \"Wind\": \"Renewable\", \"Solar\": \"Renewable\", \"Nuclear\": \"Renewable\", \"Other\": \"Renewable\", \n",
    "                        \"Coal\": \"Fossil Fuel\", \"Natural Gas\": \"Fossil Fuel\"}\n",
    "    df[\"Classification\"] = df[\"Technology\"].map(electricity_classification_dict)\n",
    "    df[\"Electricity Output\"] = df[\"Nameplate\"] * df[\"Technology\"].map(capacity_factor_dict)  \n",
    "    return df\n",
    "\n",
    "df_2018_clean = cleanse_df(df_2018)\n",
    "with pd.option_context('expand_frame_repr', False):\n",
    "    print(df_2018_clean.columns)\n",
    "    print(df_2018_clean.head())\n",
    "    \n",
    "# If a powerplant has two modes of generation (eg Coal and NG), the Plant_ID will still be repeated"
   ]
  },
  {
   "cell_type": "code",
   "execution_count": null,
   "id": "40d9f1c9",
   "metadata": {},
   "outputs": [],
   "source": []
  }
 ],
 "metadata": {
  "kernelspec": {
   "display_name": "Python 3",
   "language": "python",
   "name": "python3"
  },
  "language_info": {
   "codemirror_mode": {
    "name": "ipython",
    "version": 3
   },
   "file_extension": ".py",
   "mimetype": "text/x-python",
   "name": "python",
   "nbconvert_exporter": "python",
   "pygments_lexer": "ipython3",
   "version": "3.8.5"
  }
 },
 "nbformat": 4,
 "nbformat_minor": 5
}
